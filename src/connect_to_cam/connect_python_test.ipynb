{
 "cells": [
  {
   "cell_type": "code",
   "execution_count": 25,
   "id": "8f7c3fcf-4c4c-4dd6-becb-7a5bd39b7129",
   "metadata": {},
   "outputs": [
    {
     "ename": "uc480LibError",
     "evalue": "function 'is_InitCamera' raised error 3(IS_CANT_OPEN_DEVICE)",
     "output_type": "error",
     "traceback": [
      "\u001b[1;31m---------------------------------------------------------------------------\u001b[0m",
      "\u001b[1;31muc480LibError\u001b[0m                             Traceback (most recent call last)",
      "Cell \u001b[1;32mIn[25], line 4\u001b[0m\n\u001b[0;32m      2\u001b[0m \u001b[38;5;66;03m# pll.par[\"devices/dlls/uc480\"] = \"path/to/uc480/dlls\"\u001b[39;00m\n\u001b[0;32m      3\u001b[0m \u001b[38;5;28;01mfrom\u001b[39;00m \u001b[38;5;21;01mpylablib\u001b[39;00m\u001b[38;5;21;01m.\u001b[39;00m\u001b[38;5;21;01mdevices\u001b[39;00m \u001b[38;5;28;01mimport\u001b[39;00m uc480\n\u001b[1;32m----> 4\u001b[0m cam \u001b[38;5;241m=\u001b[39m uc480\u001b[38;5;241m.\u001b[39mUC480Camera()\n\u001b[0;32m      5\u001b[0m \u001b[38;5;66;03m# pll.par[\"devices/dlls/ueye\"] = r\"C:\\Program Files\\IDS\\uEye\\develop\\bin\"\u001b[39;00m\n\u001b[0;32m      6\u001b[0m cam \u001b[38;5;241m=\u001b[39m uc480\u001b[38;5;241m.\u001b[39mUC480Camera(backend\u001b[38;5;241m=\u001b[39m\u001b[38;5;124m\"\u001b[39m\u001b[38;5;124mueye\u001b[39m\u001b[38;5;124m\"\u001b[39m)\n",
      "File \u001b[1;32m~\\anaconda3\\Lib\\site-packages\\pylablib\\devices\\uc480\\uc480.py:93\u001b[0m, in \u001b[0;36mUC480Camera.__init__\u001b[1;34m(self, cam_id, roi_binning_mode, dev_id, backend)\u001b[0m\n\u001b[0;32m     91\u001b[0m \u001b[38;5;28mself\u001b[39m\u001b[38;5;241m.\u001b[39m_frameskip_events\u001b[38;5;241m=\u001b[39m\u001b[38;5;241m0\u001b[39m\n\u001b[0;32m     92\u001b[0m \u001b[38;5;28mself\u001b[39m\u001b[38;5;241m.\u001b[39m_acq_in_progress\u001b[38;5;241m=\u001b[39m\u001b[38;5;28;01mFalse\u001b[39;00m\n\u001b[1;32m---> 93\u001b[0m \u001b[38;5;28mself\u001b[39m\u001b[38;5;241m.\u001b[39mopen()\n\u001b[0;32m     94\u001b[0m \u001b[38;5;28mself\u001b[39m\u001b[38;5;241m.\u001b[39m_all_color_modes\u001b[38;5;241m=\u001b[39m\u001b[38;5;28mself\u001b[39m\u001b[38;5;241m.\u001b[39m_check_all_color_modes()\n\u001b[0;32m     95\u001b[0m \u001b[38;5;28;01mif\u001b[39;00m roi_binning_mode\u001b[38;5;241m==\u001b[39m\u001b[38;5;124m\"\u001b[39m\u001b[38;5;124mauto\u001b[39m\u001b[38;5;124m\"\u001b[39m:\n",
      "File \u001b[1;32m~\\anaconda3\\Lib\\site-packages\\pylablib\\devices\\uc480\\uc480.py:126\u001b[0m, in \u001b[0;36mUC480Camera.open\u001b[1;34m(self)\u001b[0m\n\u001b[0;32m    124\u001b[0m \u001b[38;5;250m\u001b[39m\u001b[38;5;124;03m\"\"\"Open connection to the camera\"\"\"\u001b[39;00m\n\u001b[0;32m    125\u001b[0m \u001b[38;5;28;01mif\u001b[39;00m \u001b[38;5;28mself\u001b[39m\u001b[38;5;241m.\u001b[39mhcam \u001b[38;5;129;01mis\u001b[39;00m \u001b[38;5;28;01mNone\u001b[39;00m:\n\u001b[1;32m--> 126\u001b[0m     \u001b[38;5;28mself\u001b[39m\u001b[38;5;241m.\u001b[39mhcam\u001b[38;5;241m=\u001b[39m\u001b[38;5;28mself\u001b[39m\u001b[38;5;241m.\u001b[39mlib\u001b[38;5;241m.\u001b[39mis_InitCamera(\u001b[38;5;28mself\u001b[39m\u001b[38;5;241m.\u001b[39mid\u001b[38;5;241m|\u001b[39m(uc480_defs\u001b[38;5;241m.\u001b[39mDEVENUM\u001b[38;5;241m.\u001b[39mIS_USE_DEVICE_ID \u001b[38;5;28;01mif\u001b[39;00m \u001b[38;5;28mself\u001b[39m\u001b[38;5;241m.\u001b[39mis_dev_id \u001b[38;5;28;01melse\u001b[39;00m \u001b[38;5;241m0\u001b[39m),\u001b[38;5;28;01mNone\u001b[39;00m)\n\u001b[0;32m    127\u001b[0m     \u001b[38;5;28mself\u001b[39m\u001b[38;5;241m.\u001b[39m_set_auto_mono_color_mode()\n",
      "File \u001b[1;32m<string>:1\u001b[0m, in \u001b[0;36m<lambda>\u001b[1;34m(phCam, hWnd)\u001b[0m\n",
      "File \u001b[1;32m~\\anaconda3\\Lib\\site-packages\\pylablib\\core\\utils\\ctypes_wrap.py:276\u001b[0m, in \u001b[0;36mCFunctionWrapper.wrap_annotated.<locals>.wrapped_func\u001b[1;34m(*vargs, **kwargs)\u001b[0m\n\u001b[0;32m    274\u001b[0m         \u001b[38;5;28;01mreturn\u001b[39;00m a\n\u001b[0;32m    275\u001b[0m call_args\u001b[38;5;241m=\u001b[39m[_to_call_arg(n,t,a) \u001b[38;5;28;01mfor\u001b[39;00m (n,t,a) \u001b[38;5;129;01min\u001b[39;00m \u001b[38;5;28mzip\u001b[39m(argnames,prep_argtypes,func_args)]\n\u001b[1;32m--> 276\u001b[0m retval\u001b[38;5;241m=\u001b[39mfunc(\u001b[38;5;241m*\u001b[39mcall_args)\n\u001b[0;32m    277\u001b[0m res\u001b[38;5;241m=\u001b[39m\u001b[38;5;28mself\u001b[39m\u001b[38;5;241m.\u001b[39m_convert_results(rvals \u001b[38;5;129;01mor\u001b[39;00m [\u001b[38;5;28;01mNone\u001b[39;00m],\u001b[38;5;28mdict\u001b[39m(\u001b[38;5;28mzip\u001b[39m(argnames,func_args)),retval,kwargs,rconv)\n\u001b[0;32m    278\u001b[0m \u001b[38;5;28;01mif\u001b[39;00m (\u001b[38;5;129;01mnot\u001b[39;00m \u001b[38;5;28mself\u001b[39m\u001b[38;5;241m.\u001b[39mtuple_single_retval) \u001b[38;5;129;01mand\u001b[39;00m \u001b[38;5;28mlen\u001b[39m(res)\u001b[38;5;241m==\u001b[39m\u001b[38;5;241m0\u001b[39m:\n",
      "File \u001b[1;32m~\\anaconda3\\Lib\\site-packages\\pylablib\\devices\\uc480\\uc480_lib.py:35\u001b[0m, in \u001b[0;36merrcheck.<locals>.errchecker\u001b[1;34m(result, func, arguments)\u001b[0m\n\u001b[0;32m     33\u001b[0m \u001b[38;5;28;01mdef\u001b[39;00m \u001b[38;5;21merrchecker\u001b[39m(result, func, arguments):  \u001b[38;5;66;03m# pylint: disable=unused-argument\u001b[39;00m\n\u001b[0;32m     34\u001b[0m     \u001b[38;5;28;01mif\u001b[39;00m result\u001b[38;5;241m<\u001b[39m\u001b[38;5;241m0\u001b[39m \u001b[38;5;129;01mor\u001b[39;00m (\u001b[38;5;129;01mnot\u001b[39;00m simple \u001b[38;5;129;01mand\u001b[39;00m result\u001b[38;5;241m!=\u001b[39m\u001b[38;5;241m0\u001b[39m):\n\u001b[1;32m---> 35\u001b[0m         \u001b[38;5;28;01mraise\u001b[39;00m uc480LibError(func\u001b[38;5;241m.\u001b[39m\u001b[38;5;18m__name__\u001b[39m,result)\n\u001b[0;32m     36\u001b[0m     \u001b[38;5;28;01mreturn\u001b[39;00m result\n",
      "\u001b[1;31muc480LibError\u001b[0m: function 'is_InitCamera' raised error 3(IS_CANT_OPEN_DEVICE)"
     ]
    }
   ],
   "source": [
    "import pylablib as pll\n",
    "# pll.par[\"devices/dlls/uc480\"] = \"path/to/uc480/dlls\"\n",
    "from pylablib.devices import uc480\n",
    "cam = uc480.UC480Camera()\n",
    "# pll.par[\"devices/dlls/ueye\"] = r\"C:\\Program Files\\IDS\\uEye\\develop\\bin\"\n",
    "cam = uc480.UC480Camera(backend=\"ueye\")"
   ]
  }
 ],
 "metadata": {
  "kernelspec": {
   "display_name": "Python [conda env:base] *",
   "language": "python",
   "name": "conda-base-py"
  },
  "language_info": {
   "codemirror_mode": {
    "name": "ipython",
    "version": 3
   },
   "file_extension": ".py",
   "mimetype": "text/x-python",
   "name": "python",
   "nbconvert_exporter": "python",
   "pygments_lexer": "ipython3",
   "version": "3.12.7"
  }
 },
 "nbformat": 4,
 "nbformat_minor": 5
}
